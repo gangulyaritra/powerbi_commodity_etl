{
 "cells": [
  {
   "cell_type": "code",
   "execution_count": null,
   "metadata": {
    "id": "1gADj5JTWJhM"
   },
   "outputs": [],
   "source": [
    "!pip install selenium pandas pyautogui"
   ]
  },
  {
   "cell_type": "code",
   "execution_count": null,
   "metadata": {
    "id": "C03m2n9DTTLa"
   },
   "outputs": [],
   "source": [
    "import time\n",
    "\n",
    "import pandas as pd\n",
    "import pyautogui\n",
    "from selenium import webdriver\n",
    "from selenium.webdriver.chrome.options import Options\n",
    "from selenium.webdriver.common.action_chains import ActionChains\n",
    "from selenium.webdriver.common.by import By\n",
    "from selenium.webdriver.support import expected_conditions as EC\n",
    "from selenium.webdriver.support.ui import WebDriverWait"
   ]
  },
  {
   "cell_type": "markdown",
   "metadata": {
    "id": "G_-oIiFRWQ3b"
   },
   "source": [
    "### Set a fixed size for the Chrome Browser window when Selenium launches it.\n",
    "\n",
    "```\n",
    "chrome_options.add_argument(\"--window-size=1200,800\")\n",
    "```\n",
    "\n",
    "### ✅ **Purpose**\n",
    "\n",
    "*   **Consistent Layout:** Ensures that webpage elements (charts, buttons, tables) appear in predictable positions $-$ critical for interaction via Selenium and pyautogui.\n",
    "*   **Avoid Hidden Elements:** Some Power BI elements may not appear correctly if the window is too small (due to the responsive layout).\n",
    "*   **Stable Automation:** Fixed dimensions help avoid errors caused by varying screen sizes, especially when using pixel-based interactions.\n",
    "\n",
    "```\n",
    "pyautogui.moveTo(200, 800)\n",
    "```\n",
    "\n",
    "\n",
    "\n",
    "\n",
    "\n",
    "\n"
   ]
  },
  {
   "cell_type": "code",
   "execution_count": 4,
   "metadata": {
    "id": "rufAJRw3ZDpj"
   },
   "outputs": [],
   "source": [
    "# Set up Chrome options.\n",
    "chrome_options = Options()\n",
    "chrome_options.add_argument(\"--window-size=1200,800\")\n",
    "\n",
    "driver = webdriver.Chrome(options=chrome_options)\n",
    "URL = \"https://app.powerbi.com/view?r=eyJrIjoiMTYxMGJkZDMtM2U4Zi00YmMyLWFhODUtYzgyMDc4OTdhOTkzIiwidCI6IjlkZTFhZmM4LTBlOTQtNDM0ZC1iOWU5LTdhZDMyNzdkMGZjYyIsImMiOjl9\"\n",
    "driver.get(URL)"
   ]
  },
  {
   "cell_type": "code",
   "execution_count": 5,
   "metadata": {
    "id": "3qCpI96RkWUD"
   },
   "outputs": [],
   "source": [
    "chart = driver.find_element(By.CLASS_NAME, \"visual-stackedAreaChart\")\n",
    "\n",
    "# Create an ActionChains object - ActionChains is a Selenium utility that simulates low-level mouse and keyboard actions.\n",
    "actions = ActionChains(driver)\n",
    "\n",
    "# Perform right-click on the element - The right-click opens a context menu in Power BI.\n",
    "actions.context_click(chart).perform()\n",
    "\n",
    "time.sleep(1)\n",
    "\n",
    "button = WebDriverWait(driver, 10).until(\n",
    "    EC.element_to_be_clickable((By.XPATH, '//button[@title=\"Show as a table\"]'))\n",
    ")\n",
    "# button = WebDriverWait(driver, 10).until(\n",
    "#     EC.element_to_be_clickable((By.XPATH, '//*[@id=\"0\"]'))\n",
    "# )\n",
    "\n",
    "button.click()"
   ]
  },
  {
   "cell_type": "markdown",
   "metadata": {
    "id": "mAtUC5XFwUE-"
   },
   "source": [
    "When a Power BI visual is switched to \"**Show as a table**\", it doesn't load all rows into the DOM at once. Instead, it uses virtualization, rendering only the rows that are currently visible on the screen. As a result, this code will only extract a portion of data that is in view at the time it runs."
   ]
  },
  {
   "cell_type": "code",
   "execution_count": null,
   "metadata": {
    "id": "qtkosmLduVv_",
    "outputId": "d9e49936-34b8-4a04-fe57-3356c5c3a148"
   },
   "outputs": [
    {
     "name": "stdout",
     "output_type": "stream",
     "text": [
      "['Datum', 'Benzin', ' Dieselöl', ' Flugtreibstoffe', ' ']\n",
      "['1974-02', '160,000.0', '28,000.0', '40,000.0']\n",
      "['1974-03', '178,000.0', '47,000.0', '42,000.0']\n",
      "['1974-04', '207,000.0', '53,000.0', '58,000.0']\n",
      "['1974-05', '210,000.0', '56,000.0', '50,000.0']\n",
      "['1974-06', '184,000.0', '55,000.0', '49,000.0']\n",
      "['1974-07', '238,000.0', '68,000.0', '53,000.0']\n",
      "['1974-08', '235,000.0', '59,000.0', '63,000.0']\n",
      "['1974-09', '222,000.0', '69,000.0', '54,000.0']\n",
      "['1974-10', '201,000.0', '56,000.0', '65,000.0']\n",
      "['1974-11', '182,000.0', '55,000.0', '44,000.0']\n",
      "['1974-12', '201,000.0', '46,000.0', '50,000.0']\n",
      "['1975-01', '180,000.0', '38,000.0', '51,000.0']\n",
      "['1975-02', '172,000.0', '41,000.0', '41,000.0']\n",
      "['1975-03', '184,000.0', '38,000.0', '49,000.0']\n",
      "['1975-04', '208,000.0', '50,000.0', '54,000.0']\n",
      "['1975-05', '201,000.0', '55,000.0', '55,000.0']\n",
      "['1975-06', '209,000.0', '66,000.0', '57,000.0']\n",
      "['1975-07', '252,000.0', '65,000.0', '76,000.0']\n",
      "['1975-08', '221,000.0', '58,000.0', '61,000.0']\n",
      "['1975-09', '218,000.0', '65,000.0', '58,000.0']\n"
     ]
    }
   ],
   "source": [
    "table_data = driver.find_elements(By.CLASS_NAME, \"scrollable-cells-container\")\n",
    "for i in table_data:\n",
    "    print(i.text.split(\"\\n\"))"
   ]
  },
  {
   "cell_type": "markdown",
   "metadata": {
    "id": "adBV6k8Xz4fb"
   },
   "source": [
    "This snippet uses **PyAutoGUI** to programmatically move our mouse cursor to a specific screen location.\n",
    "\n",
    "*   $moveTo(x, y)$ tells **PyAutoGUI** to glide the mouse cursor to the point $(200, 800)$.\n",
    "*   **duration=1** makes that movement take 1 second (so we see a smooth slide rather than an instant jump).\n",
    "\n",
    "In practice, this ensures that subsequent clicks or scrolls happen exactly where we need them (e.g., over a table area), by first positioning the cursor reliably at those screen coordinates.\n",
    "\n"
   ]
  },
  {
   "cell_type": "code",
   "execution_count": null,
   "metadata": {
    "id": "h1NzqKmzy1Pz"
   },
   "outputs": [],
   "source": [
    "# Set target coordinates - Represent the pixel positions on our screen.\n",
    "x_coordinate = 200\n",
    "y_coordinate = 800\n",
    "\n",
    "# Move the mouse.\n",
    "pyautogui.moveTo(x_coordinate, y_coordinate, duration=1)"
   ]
  },
  {
   "cell_type": "code",
   "execution_count": 9,
   "metadata": {
    "id": "gGZdvvou1NMW",
    "outputId": "a910064f-27ec-4677-e87c-465b86d107dd"
   },
   "outputs": [
    {
     "name": "stdout",
     "output_type": "stream",
     "text": [
      "DataFrame Length: 614\n"
     ]
    },
    {
     "data": {
      "application/vnd.microsoft.datawrangler.viewer.v0+json": {
       "columns": [
        {
         "name": "index",
         "rawType": "int64",
         "type": "integer"
        },
        {
         "name": "date",
         "rawType": "object",
         "type": "string"
        },
        {
         "name": "benzin",
         "rawType": "object",
         "type": "string"
        },
        {
         "name": "dieselol",
         "rawType": "object",
         "type": "string"
        },
        {
         "name": "flugtreibstoffe",
         "rawType": "object",
         "type": "unknown"
        }
       ],
       "ref": "a16fe3e5-8af7-4f18-8f2f-99bdccbcb9e7",
       "rows": [
        [
         "0",
         "1974-02",
         "160,000.0",
         "28,000.0",
         "40,000.0"
        ],
        [
         "1",
         "1974-03",
         "178,000.0",
         "47,000.0",
         "42,000.0"
        ],
        [
         "2",
         "1974-04",
         "207,000.0",
         "53,000.0",
         "58,000.0"
        ],
        [
         "3",
         "1974-05",
         "210,000.0",
         "56,000.0",
         "50,000.0"
        ],
        [
         "4",
         "1974-06",
         "184,000.0",
         "55,000.0",
         "49,000.0"
        ],
        [
         "5",
         "1974-07",
         "238,000.0",
         "68,000.0",
         "53,000.0"
        ],
        [
         "6",
         "1974-08",
         "235,000.0",
         "59,000.0",
         "63,000.0"
        ],
        [
         "7",
         "1974-09",
         "222,000.0",
         "69,000.0",
         "54,000.0"
        ],
        [
         "8",
         "1974-10",
         "201,000.0",
         "56,000.0",
         "65,000.0"
        ],
        [
         "9",
         "1974-11",
         "182,000.0",
         "55,000.0",
         "44,000.0"
        ],
        [
         "10",
         "1974-12",
         "201,000.0",
         "46,000.0",
         "50,000.0"
        ],
        [
         "11",
         "1975-01",
         "180,000.0",
         "38,000.0",
         "51,000.0"
        ],
        [
         "12",
         "1975-02",
         "172,000.0",
         "41,000.0",
         "41,000.0"
        ],
        [
         "13",
         "1975-03",
         "184,000.0",
         "38,000.0",
         "49,000.0"
        ],
        [
         "14",
         "1975-04",
         "208,000.0",
         "50,000.0",
         "54,000.0"
        ],
        [
         "15",
         "1975-05",
         "201,000.0",
         "55,000.0",
         "55,000.0"
        ],
        [
         "16",
         "1975-06",
         "209,000.0",
         "66,000.0",
         "57,000.0"
        ],
        [
         "17",
         "1975-07",
         "252,000.0",
         "65,000.0",
         "76,000.0"
        ],
        [
         "18",
         "1975-08",
         "221,000.0",
         "58,000.0",
         "61,000.0"
        ],
        [
         "19",
         "1975-09",
         "218,000.0",
         "65,000.0",
         "58,000.0"
        ],
        [
         "20",
         "1975-10",
         "214,000.0",
         "59,000.0",
         "52,000.0"
        ],
        [
         "21",
         "1975-11",
         "182,000.0",
         "48,000.0",
         "55,000.0"
        ],
        [
         "22",
         "1975-12",
         "203,000.0",
         "38,000.0",
         "48,000.0"
        ],
        [
         "23",
         "1976-01",
         "175,000.0",
         "41,000.0",
         "44,000.0"
        ],
        [
         "24",
         "1976-02",
         "162,000.0",
         "35,000.0",
         "39,000.0"
        ],
        [
         "25",
         "1976-03",
         "221,000.0",
         "54,000.0",
         "64,000.0"
        ],
        [
         "26",
         "1976-04",
         "208,000.0",
         "49,000.0",
         "59,000.0"
        ],
        [
         "27",
         "1976-05",
         "192,000.0",
         "50,000.0",
         "46,000.0"
        ],
        [
         "28",
         "1976-06",
         "196,000.0",
         "61,000.0",
         "61,000.0"
        ],
        [
         "29",
         "1976-07",
         "229,000.0",
         "59,000.0",
         "61,000.0"
        ],
        [
         "30",
         "1976-08",
         "215,000.0",
         "55,000.0",
         "72,000.0"
        ],
        [
         "31",
         "1976-09",
         "203,000.0",
         "59,000.0",
         "62,000.0"
        ],
        [
         "32",
         "1976-10",
         "214,000.0",
         "63,000.0",
         "62,000.0"
        ],
        [
         "33",
         "1976-11",
         "204,000.0",
         "56,000.0",
         "43,000.0"
        ],
        [
         "34",
         "1976-12",
         "221,000.0",
         "54,000.0",
         "55,000.0"
        ],
        [
         "35",
         "1977-01",
         "163,000.0",
         "30,000.0",
         "55,000.0"
        ],
        [
         "36",
         "1977-02",
         "176,000.0",
         "34,000.0",
         "37,000.0"
        ],
        [
         "37",
         "1977-03",
         "220,000.0",
         "52,000.0",
         "62,000.0"
        ],
        [
         "38",
         "1977-04",
         "210,000.0",
         "56,000.0",
         "62,000.0"
        ],
        [
         "39",
         "1977-05",
         "220,000.0",
         "56,000.0",
         "66,000.0"
        ],
        [
         "40",
         "1977-06",
         "237,000.0",
         "63,000.0",
         "60,000.0"
        ],
        [
         "41",
         "1977-07",
         "226,000.0",
         "62,000.0",
         "69,000.0"
        ],
        [
         "42",
         "1977-08",
         "252,000.0",
         "51,000.0",
         "68,000.0"
        ],
        [
         "43",
         "1977-09",
         "222,000.0",
         "72,000.0",
         "82,000.0"
        ],
        [
         "44",
         "1977-10",
         "222,000.0",
         "62,000.0",
         "60,000.0"
        ],
        [
         "45",
         "1977-11",
         "209,000.0",
         "59,000.0",
         "71,000.0"
        ],
        [
         "46",
         "1977-12",
         "225,000.0",
         "51,000.0",
         "67,000.0"
        ],
        [
         "47",
         "1978-01",
         "182,000.0",
         "39,000.0",
         "57,000.0"
        ],
        [
         "48",
         "1978-02",
         "172,000.0",
         "40,000.0",
         "55,000.0"
        ],
        [
         "49",
         "1978-03",
         "232,000.0",
         "49,000.0",
         "53,000.0"
        ]
       ],
       "shape": {
        "columns": 4,
        "rows": 614
       }
      },
      "text/html": [
       "<div>\n",
       "<style scoped>\n",
       "    .dataframe tbody tr th:only-of-type {\n",
       "        vertical-align: middle;\n",
       "    }\n",
       "\n",
       "    .dataframe tbody tr th {\n",
       "        vertical-align: top;\n",
       "    }\n",
       "\n",
       "    .dataframe thead th {\n",
       "        text-align: right;\n",
       "    }\n",
       "</style>\n",
       "<table border=\"1\" class=\"dataframe\">\n",
       "  <thead>\n",
       "    <tr style=\"text-align: right;\">\n",
       "      <th></th>\n",
       "      <th>date</th>\n",
       "      <th>benzin</th>\n",
       "      <th>dieselol</th>\n",
       "      <th>flugtreibstoffe</th>\n",
       "    </tr>\n",
       "  </thead>\n",
       "  <tbody>\n",
       "    <tr>\n",
       "      <th>0</th>\n",
       "      <td>1974-02</td>\n",
       "      <td>160,000.0</td>\n",
       "      <td>28,000.0</td>\n",
       "      <td>40,000.0</td>\n",
       "    </tr>\n",
       "    <tr>\n",
       "      <th>1</th>\n",
       "      <td>1974-03</td>\n",
       "      <td>178,000.0</td>\n",
       "      <td>47,000.0</td>\n",
       "      <td>42,000.0</td>\n",
       "    </tr>\n",
       "    <tr>\n",
       "      <th>2</th>\n",
       "      <td>1974-04</td>\n",
       "      <td>207,000.0</td>\n",
       "      <td>53,000.0</td>\n",
       "      <td>58,000.0</td>\n",
       "    </tr>\n",
       "    <tr>\n",
       "      <th>3</th>\n",
       "      <td>1974-05</td>\n",
       "      <td>210,000.0</td>\n",
       "      <td>56,000.0</td>\n",
       "      <td>50,000.0</td>\n",
       "    </tr>\n",
       "    <tr>\n",
       "      <th>4</th>\n",
       "      <td>1974-06</td>\n",
       "      <td>184,000.0</td>\n",
       "      <td>55,000.0</td>\n",
       "      <td>49,000.0</td>\n",
       "    </tr>\n",
       "    <tr>\n",
       "      <th>...</th>\n",
       "      <td>...</td>\n",
       "      <td>...</td>\n",
       "      <td>...</td>\n",
       "      <td>...</td>\n",
       "    </tr>\n",
       "    <tr>\n",
       "      <th>609</th>\n",
       "      <td>2024-11</td>\n",
       "      <td>175,000.0</td>\n",
       "      <td>225,000.0</td>\n",
       "      <td>123,000.0</td>\n",
       "    </tr>\n",
       "    <tr>\n",
       "      <th>610</th>\n",
       "      <td>2024-12</td>\n",
       "      <td>181,000.0</td>\n",
       "      <td>214,000.0</td>\n",
       "      <td>158,000.0</td>\n",
       "    </tr>\n",
       "    <tr>\n",
       "      <th>611</th>\n",
       "      <td>2025-01</td>\n",
       "      <td>174,000.0</td>\n",
       "      <td>188,000.0</td>\n",
       "      <td>128,000.0</td>\n",
       "    </tr>\n",
       "    <tr>\n",
       "      <th>612</th>\n",
       "      <td>2025-02</td>\n",
       "      <td>160,000.0</td>\n",
       "      <td>197,000.0</td>\n",
       "      <td>141,000.0</td>\n",
       "    </tr>\n",
       "    <tr>\n",
       "      <th>613</th>\n",
       "      <td>2025-03</td>\n",
       "      <td>171,000.0</td>\n",
       "      <td>220,000.0</td>\n",
       "      <td>143,000.0</td>\n",
       "    </tr>\n",
       "  </tbody>\n",
       "</table>\n",
       "<p>614 rows × 4 columns</p>\n",
       "</div>"
      ],
      "text/plain": [
       "        date     benzin   dieselol flugtreibstoffe\n",
       "0    1974-02  160,000.0   28,000.0        40,000.0\n",
       "1    1974-03  178,000.0   47,000.0        42,000.0\n",
       "2    1974-04  207,000.0   53,000.0        58,000.0\n",
       "3    1974-05  210,000.0   56,000.0        50,000.0\n",
       "4    1974-06  184,000.0   55,000.0        49,000.0\n",
       "..       ...        ...        ...             ...\n",
       "609  2024-11  175,000.0  225,000.0       123,000.0\n",
       "610  2024-12  181,000.0  214,000.0       158,000.0\n",
       "611  2025-01  174,000.0  188,000.0       128,000.0\n",
       "612  2025-02  160,000.0  197,000.0       141,000.0\n",
       "613  2025-03  171,000.0  220,000.0       143,000.0\n",
       "\n",
       "[614 rows x 4 columns]"
      ]
     },
     "execution_count": 9,
     "metadata": {},
     "output_type": "execute_result"
    }
   ],
   "source": [
    "# Set target coordinates - Represent the pixel positions on our screen.\n",
    "x_coordinate = 200\n",
    "y_coordinate = 800\n",
    "\n",
    "# Make sure the mouse is hovering over the table's scrollable region so that subsequent scroll events affect the right element.\n",
    "pyautogui.moveTo(x_coordinate, y_coordinate, duration=1)\n",
    "\n",
    "# all_rows: This will accumulate every row's data as a list of lists.\n",
    "# last_row: Holds the content of the final row.\n",
    "# count: A simple loop counter (useful for debugging or logging).\n",
    "all_rows = []\n",
    "last_row = None\n",
    "count = 0\n",
    "\n",
    "# Loop to Scroll & Scrape until the bottom.\n",
    "while True:\n",
    "    # Grab whatever rows are currently rendered.\n",
    "    table_data = driver.find_elements(By.CLASS_NAME, \"scrollable-cells-container\")\n",
    "\n",
    "    # Extract all the visible rows from the Power BI table at this moment (skip the header at index 0).\n",
    "    for row in table_data[1:]:\n",
    "        row_data = row.text.split(\"\\n\")\n",
    "        all_rows.append(row_data)\n",
    "\n",
    "    # If the last row hasn't changed, we assume we've reached the bottom of the table.\n",
    "    current_last_row = table_data[-1].text.split(\"\\n\") if table_data else None\n",
    "    if current_last_row == last_row:\n",
    "        break\n",
    "\n",
    "    last_row = current_last_row\n",
    "\n",
    "    # scroll(-300): Scroll the window down by 300 \"clicks\".\n",
    "    # This nudges the table so that its next batch of rows comes into view and gets injected into the DOM.\n",
    "    pyautogui.scroll(-300)\n",
    "\n",
    "    # time.sleep(0.3): Small pause to let those new rows render before the next iteration.\n",
    "    time.sleep(0.3)\n",
    "\n",
    "    # Increment the count to track how many iterations we've gone through.\n",
    "    count += 1\n",
    "\n",
    "driver.quit()\n",
    "\n",
    "columns = [\"date\", \"benzin\", \"dieselol\", \"flugtreibstoffe\"]\n",
    "\n",
    "# Create a DataFrame from the collected rows.\n",
    "df = pd.DataFrame(all_rows, columns=columns)\n",
    "df.drop_duplicates(inplace=True, ignore_index=True)\n",
    "\n",
    "print(\"DataFrame Length:\", len(df))\n",
    "df"
   ]
  }
 ],
 "metadata": {
  "colab": {
   "provenance": []
  },
  "kernelspec": {
   "display_name": "venv",
   "language": "python",
   "name": "python3"
  },
  "language_info": {
   "codemirror_mode": {
    "name": "ipython",
    "version": 3
   },
   "file_extension": ".py",
   "mimetype": "text/x-python",
   "name": "python",
   "nbconvert_exporter": "python",
   "pygments_lexer": "ipython3",
   "version": "3.12.9"
  }
 },
 "nbformat": 4,
 "nbformat_minor": 0
}
